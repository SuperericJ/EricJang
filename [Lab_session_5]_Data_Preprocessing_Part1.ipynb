{
  "nbformat": 4,
  "nbformat_minor": 0,
  "metadata": {
    "colab": {
      "provenance": [],
      "include_colab_link": true
    },
    "kernelspec": {
      "name": "python3",
      "display_name": "Python 3"
    },
    "language_info": {
      "name": "python"
    }
  },
  "cells": [
    {
      "cell_type": "markdown",
      "metadata": {
        "id": "view-in-github",
        "colab_type": "text"
      },
      "source": [
        "<a href=\"https://colab.research.google.com/github/SuperericJ/EricJang/blob/main/%5BLab_session_5%5D_Data_Preprocessing_Part1.ipynb\" target=\"_parent\"><img src=\"https://colab.research.google.com/assets/colab-badge.svg\" alt=\"Open In Colab\"/></a>"
      ]
    },
    {
      "cell_type": "code",
      "metadata": {
        "id": "HQS2UZY1bFnh"
      },
      "source": [
        "import numpy as np\n",
        "import pandas as pd\n",
        "\n",
        "import matplotlib.pyplot as plt\n",
        "import seaborn as sns"
      ],
      "execution_count": 2,
      "outputs": []
    },
    {
      "cell_type": "markdown",
      "metadata": {
        "id": "CRu9j1LVbm67"
      },
      "source": [
        "# Cars93 data\n",
        "In this lab, we would like to explore data about 93 number of vehicles."
      ]
    },
    {
      "cell_type": "code",
      "metadata": {
        "colab": {
          "base_uri": "https://localhost:8080/",
          "height": 1000
        },
        "id": "XURptut9Y0Au",
        "outputId": "2a441c91-e9ee-4932-f885-88db8e0d235f"
      },
      "source": [
        "import pandas as pd\n",
        "import matplotlib.pyplot as plt\n",
        "import seaborn as sns\n",
        "\n",
        "df = pd.read_csv('https://raw.githubusercontent.com/selva86/datasets/master/Cars93_miss.csv')\n",
        "\n",
        "print(df.head())\n",
        "\n",
        "print(df.info())\n",
        "\n",
        "missing_data = df.isnull().sum()\n",
        "print(\"\\nMissing values for each column:\\n\", missing_data)\n",
        "\n",
        "plt.figure(figsize=(10,6))\n",
        "sns.histplot(df['Price'].dropna(), kde=True)\n",
        "plt.title('Distribution of Car Prices')\n",
        "plt.xlabel('Price ($)')\n",
        "plt.ylabel('Frequency')\n",
        "plt.show()\n",
        "\n",
        "plt.figure(figsize=(12,7))\n",
        "sns.barplot(x='Type', y='Price', data=df)\n",
        "plt.title('Average Price by Car Type')\n",
        "plt.ylabel('Average Price ($)')\n",
        "plt.xlabel('Car Type')\n",
        "plt.xticks(rotation=45)\n",
        "plt.show()\n",
        "\n",
        "plt.figure(figsize=(10,6))\n",
        "sns.scatterplot(x='Horsepower', y='Price', hue='Type', data=df)\n",
        "plt.title('Relationship between Horsepower and Price')\n",
        "plt.xlabel('Horsepower')\n",
        "plt.ylabel('Price ($)')\n",
        "plt.show()"
      ],
      "execution_count": 3,
      "outputs": [
        {
          "output_type": "stream",
          "name": "stdout",
          "text": [
            "  Manufacturer    Model     Type  Min.Price  Price  Max.Price  MPG.city  \\\n",
            "0        Acura  Integra    Small       12.9   15.9       18.8      25.0   \n",
            "1          NaN   Legend  Midsize       29.2   33.9       38.7      18.0   \n",
            "2         Audi       90  Compact       25.9   29.1       32.3      20.0   \n",
            "3         Audi      100  Midsize        NaN   37.7       44.6      19.0   \n",
            "4          BMW     535i  Midsize        NaN   30.0        NaN      22.0   \n",
            "\n",
            "   MPG.highway             AirBags DriveTrain  ... Passengers  Length  \\\n",
            "0         31.0                None      Front  ...        5.0   177.0   \n",
            "1         25.0  Driver & Passenger      Front  ...        5.0   195.0   \n",
            "2         26.0         Driver only      Front  ...        5.0   180.0   \n",
            "3         26.0  Driver & Passenger        NaN  ...        6.0   193.0   \n",
            "4         30.0                 NaN       Rear  ...        4.0   186.0   \n",
            "\n",
            "   Wheelbase  Width  Turn.circle Rear.seat.room  Luggage.room  Weight  \\\n",
            "0      102.0   68.0         37.0           26.5           NaN  2705.0   \n",
            "1      115.0   71.0         38.0           30.0          15.0  3560.0   \n",
            "2      102.0   67.0         37.0           28.0          14.0  3375.0   \n",
            "3      106.0    NaN         37.0           31.0          17.0  3405.0   \n",
            "4      109.0   69.0         39.0           27.0          13.0  3640.0   \n",
            "\n",
            "    Origin           Make  \n",
            "0  non-USA  Acura Integra  \n",
            "1  non-USA   Acura Legend  \n",
            "2  non-USA        Audi 90  \n",
            "3  non-USA       Audi 100  \n",
            "4  non-USA       BMW 535i  \n",
            "\n",
            "[5 rows x 27 columns]\n",
            "<class 'pandas.core.frame.DataFrame'>\n",
            "RangeIndex: 93 entries, 0 to 92\n",
            "Data columns (total 27 columns):\n",
            " #   Column              Non-Null Count  Dtype  \n",
            "---  ------              --------------  -----  \n",
            " 0   Manufacturer        89 non-null     object \n",
            " 1   Model               92 non-null     object \n",
            " 2   Type                90 non-null     object \n",
            " 3   Min.Price           86 non-null     float64\n",
            " 4   Price               91 non-null     float64\n",
            " 5   Max.Price           88 non-null     float64\n",
            " 6   MPG.city            84 non-null     float64\n",
            " 7   MPG.highway         91 non-null     float64\n",
            " 8   AirBags             87 non-null     object \n",
            " 9   DriveTrain          86 non-null     object \n",
            " 10  Cylinders           88 non-null     object \n",
            " 11  EngineSize          91 non-null     float64\n",
            " 12  Horsepower          86 non-null     float64\n",
            " 13  RPM                 90 non-null     float64\n",
            " 14  Rev.per.mile        87 non-null     float64\n",
            " 15  Man.trans.avail     88 non-null     object \n",
            " 16  Fuel.tank.capacity  85 non-null     float64\n",
            " 17  Passengers          91 non-null     float64\n",
            " 18  Length              89 non-null     float64\n",
            " 19  Wheelbase           92 non-null     float64\n",
            " 20  Width               87 non-null     float64\n",
            " 21  Turn.circle         88 non-null     float64\n",
            " 22  Rear.seat.room      89 non-null     float64\n",
            " 23  Luggage.room        74 non-null     float64\n",
            " 24  Weight              86 non-null     float64\n",
            " 25  Origin              88 non-null     object \n",
            " 26  Make                90 non-null     object \n",
            "dtypes: float64(18), object(9)\n",
            "memory usage: 19.7+ KB\n",
            "None\n",
            "\n",
            "Missing values for each column:\n",
            " Manufacturer           4\n",
            "Model                  1\n",
            "Type                   3\n",
            "Min.Price              7\n",
            "Price                  2\n",
            "Max.Price              5\n",
            "MPG.city               9\n",
            "MPG.highway            2\n",
            "AirBags                6\n",
            "DriveTrain             7\n",
            "Cylinders              5\n",
            "EngineSize             2\n",
            "Horsepower             7\n",
            "RPM                    3\n",
            "Rev.per.mile           6\n",
            "Man.trans.avail        5\n",
            "Fuel.tank.capacity     8\n",
            "Passengers             2\n",
            "Length                 4\n",
            "Wheelbase              1\n",
            "Width                  6\n",
            "Turn.circle            5\n",
            "Rear.seat.room         4\n",
            "Luggage.room          19\n",
            "Weight                 7\n",
            "Origin                 5\n",
            "Make                   3\n",
            "dtype: int64\n"
          ]
        },
        {
          "output_type": "display_data",
          "data": {
            "text/plain": [
              "<Figure size 1000x600 with 1 Axes>"
            ],
            "image/png": "[encoded data removed]"
          },
          "metadata": {}
        },
        {
          "output_type": "display_data",
          "data": {
            "text/plain": [
              "<Figure size 1200x700 with 1 Axes>"
            ],
            "image/png": "[encoded data removed]"
          },
          "metadata": {}
        },
        {
          "output_type": "display_data",
          "data": {
            "text/plain": [
              "<Figure size 1000x600 with 1 Axes>"
            ],
            "image/png": "[encoded data removed]"
          },
          "metadata": {}
        }
      ]
    },
    {
      "cell_type": "markdown",
      "metadata": {
        "id": "4_l3u1ncbd8K"
      },
      "source": [
        "# Filtering Data\n",
        "Filter only DataFrame with numeric attribute."
      ]
    },
    {
      "cell_type": "code",
      "metadata": {
        "colab": {
          "base_uri": "https://localhost:8080/"
        },
        "id": "c89a0Dl3ax4Z",
        "outputId": "84af5fc7-2194-4c38-bf19-db1e293470c0"
      },
      "source": [
        "df = pd.read_csv('https://raw.githubusercontent.com/selva86/datasets/master/Cars93_miss.csv')\n",
        "\n",
        "numericDf = df.select_dtypes(include=[np.number])\n",
        "\n",
        "print(numericDf)"
      ],
      "execution_count": 4,
      "outputs": [
        {
          "output_type": "stream",
          "name": "stdout",
          "text": [
            "    Min.Price  Price  Max.Price  MPG.city  MPG.highway  EngineSize  \\\n",
            "0        12.9   15.9       18.8      25.0         31.0         1.8   \n",
            "1        29.2   33.9       38.7      18.0         25.0         3.2   \n",
            "2        25.9   29.1       32.3      20.0         26.0         2.8   \n",
            "3         NaN   37.7       44.6      19.0         26.0         NaN   \n",
            "4         NaN   30.0        NaN      22.0         30.0         3.5   \n",
            "..        ...    ...        ...       ...          ...         ...   \n",
            "88       16.6   19.7       22.7      17.0         21.0         2.5   \n",
            "89       17.6   20.0       22.4      21.0         30.0         2.0   \n",
            "90       22.9   23.3       23.7      18.0         25.0         2.8   \n",
            "91       21.8   22.7       23.5      21.0         28.0         2.3   \n",
            "92       24.8   26.7       28.5      20.0         28.0         2.4   \n",
            "\n",
            "    Horsepower     RPM  Rev.per.mile  Fuel.tank.capacity  Passengers  Length  \\\n",
            "0        140.0  6300.0        2890.0                13.2         5.0   177.0   \n",
            "1        200.0  5500.0        2335.0                18.0         5.0   195.0   \n",
            "2        172.0  5500.0        2280.0                16.9         5.0   180.0   \n",
            "3        172.0  5500.0        2535.0                21.1         6.0   193.0   \n",
            "4        208.0  5700.0        2545.0                21.1         4.0   186.0   \n",
            "..         ...     ...           ...                 ...         ...     ...   \n",
            "88       109.0  4500.0        2915.0                21.1         7.0   187.0   \n",
            "89       134.0  5800.0        2685.0                18.5         5.0   180.0   \n",
            "90       178.0  5800.0        2385.0                18.5         4.0   159.0   \n",
            "91       114.0  5400.0        2215.0                15.8         5.0   190.0   \n",
            "92       168.0  6200.0           NaN                19.3         5.0   184.0   \n",
            "\n",
            "    Wheelbase  Width  Turn.circle  Rear.seat.room  Luggage.room  Weight  \n",
            "0       102.0   68.0         37.0            26.5           NaN  2705.0  \n",
            "1       115.0   71.0         38.0            30.0          15.0  3560.0  \n",
            "2       102.0   67.0         37.0            28.0          14.0  3375.0  \n",
            "3       106.0    NaN         37.0            31.0          17.0  3405.0  \n",
            "4       109.0   69.0         39.0            27.0          13.0  3640.0  \n",
            "..        ...    ...          ...             ...           ...     ...  \n",
            "88      115.0   72.0         38.0            34.0           NaN  3960.0  \n",
            "89      103.0   67.0         35.0            31.5          14.0  2985.0  \n",
            "90       97.0   66.0         36.0            26.0          15.0  2810.0  \n",
            "91      104.0   67.0         37.0            29.5          14.0  2985.0  \n",
            "92      105.0   69.0         38.0            30.0          15.0  3245.0  \n",
            "\n",
            "[93 rows x 18 columns]\n"
          ]
        }
      ]
    },
    {
      "cell_type": "markdown",
      "metadata": {
        "id": "XJZQ2uyMCUnC"
      },
      "source": [
        "# Handling Outlier"
      ]
    },
    {
      "cell_type": "markdown",
      "metadata": {
        "id": "WClZDB-QoOsZ"
      },
      "source": [
        "**[TODO]** Exclude the outlier (cars) with too much expensive.\n",
        "* Assume that `price` of outlier is greater than `Q3 + (1.5 * IQR)`."
      ]
    },
    {
      "cell_type": "code",
      "metadata": {
        "id": "TlY35nqQleg0",
        "colab": {
          "base_uri": "https://localhost:8080/"
        },
        "outputId": "2c0bab6e-9394-4332-a14c-c32518f08a41"
      },
      "source": [
        "df = pd.read_csv('https://raw.githubusercontent.com/selva86/datasets/master/Cars93_miss.csv')\n",
        "\n",
        "attribute = 'Price'\n",
        "\n",
        "Q1 = df[attribute].quantile(0.25)\n",
        "Q3 = df[attribute].quantile(0.75)\n",
        "IQR = Q3 - Q1\n",
        "\n",
        "outlierStep = Q3 + 1.5 * IQR\n",
        "\n",
        "filtered_df = df[df[attribute] <= outlierStep]\n",
        "\n",
        "print(filtered_df)\n"
      ],
      "execution_count": 5,
      "outputs": [
        {
          "output_type": "stream",
          "name": "stdout",
          "text": [
            "   Manufacturer    Model     Type  Min.Price  Price  Max.Price  MPG.city  \\\n",
            "0         Acura  Integra    Small       12.9   15.9       18.8      25.0   \n",
            "1           NaN   Legend  Midsize       29.2   33.9       38.7      18.0   \n",
            "2          Audi       90  Compact       25.9   29.1       32.3      20.0   \n",
            "3          Audi      100  Midsize        NaN   37.7       44.6      19.0   \n",
            "4           BMW     535i  Midsize        NaN   30.0        NaN      22.0   \n",
            "..          ...      ...      ...        ...    ...        ...       ...   \n",
            "88   Volkswagen  Eurovan      Van       16.6   19.7       22.7      17.0   \n",
            "89   Volkswagen   Passat  Compact       17.6   20.0       22.4      21.0   \n",
            "90   Volkswagen  Corrado   Sporty       22.9   23.3       23.7      18.0   \n",
            "91        Volvo      240  Compact       21.8   22.7       23.5      21.0   \n",
            "92          NaN      850  Midsize       24.8   26.7       28.5      20.0   \n",
            "\n",
            "    MPG.highway             AirBags DriveTrain  ... Passengers  Length  \\\n",
            "0          31.0                None      Front  ...        5.0   177.0   \n",
            "1          25.0  Driver & Passenger      Front  ...        5.0   195.0   \n",
            "2          26.0         Driver only      Front  ...        5.0   180.0   \n",
            "3          26.0  Driver & Passenger        NaN  ...        6.0   193.0   \n",
            "4          30.0                 NaN       Rear  ...        4.0   186.0   \n",
            "..          ...                 ...        ...  ...        ...     ...   \n",
            "88         21.0                None      Front  ...        7.0   187.0   \n",
            "89         30.0                None      Front  ...        5.0   180.0   \n",
            "90         25.0                None      Front  ...        4.0   159.0   \n",
            "91         28.0         Driver only       Rear  ...        5.0   190.0   \n",
            "92         28.0  Driver & Passenger      Front  ...        5.0   184.0   \n",
            "\n",
            "    Wheelbase  Width  Turn.circle Rear.seat.room  Luggage.room  Weight  \\\n",
            "0       102.0   68.0         37.0           26.5           NaN  2705.0   \n",
            "1       115.0   71.0         38.0           30.0          15.0  3560.0   \n",
            "2       102.0   67.0         37.0           28.0          14.0  3375.0   \n",
            "3       106.0    NaN         37.0           31.0          17.0  3405.0   \n",
            "4       109.0   69.0         39.0           27.0          13.0  3640.0   \n",
            "..        ...    ...          ...            ...           ...     ...   \n",
            "88      115.0   72.0         38.0           34.0           NaN  3960.0   \n",
            "89      103.0   67.0         35.0           31.5          14.0  2985.0   \n",
            "90       97.0   66.0         36.0           26.0          15.0  2810.0   \n",
            "91      104.0   67.0         37.0           29.5          14.0  2985.0   \n",
            "92      105.0   69.0         38.0           30.0          15.0  3245.0   \n",
            "\n",
            "     Origin                Make  \n",
            "0   non-USA       Acura Integra  \n",
            "1   non-USA        Acura Legend  \n",
            "2   non-USA             Audi 90  \n",
            "3   non-USA            Audi 100  \n",
            "4   non-USA            BMW 535i  \n",
            "..      ...                 ...  \n",
            "88      NaN  Volkswagen Eurovan  \n",
            "89  non-USA   Volkswagen Passat  \n",
            "90  non-USA  Volkswagen Corrado  \n",
            "91  non-USA           Volvo 240  \n",
            "92  non-USA           Volvo 850  \n",
            "\n",
            "[89 rows x 27 columns]\n"
          ]
        }
      ]
    },
    {
      "cell_type": "markdown",
      "metadata": {
        "id": "j1fElYuqcCp4"
      },
      "source": [
        "Draw histogram of `price`."
      ]
    },
    {
      "cell_type": "code",
      "metadata": {
        "colab": {
          "base_uri": "https://localhost:8080/",
          "height": 507
        },
        "id": "dWzoXALlEYd5",
        "outputId": "6b690cec-8532-464e-aaee-aee5d1dce585"
      },
      "source": [
        "import pandas as pd\n",
        "import matplotlib.pyplot as plt\n",
        "import seaborn as sns\n",
        "import numpy as np\n",
        "\n",
        "df = pd.read_csv('https://raw.githubusercontent.com/selva86/datasets/master/Cars93_miss.csv')\n",
        "\n",
        "Q1 = df['Price'].quantile(0.25)\n",
        "Q3 = df['Price'].quantile(0.75)\n",
        "IQR = Q3 - Q1\n",
        "outlierStep = Q3 + 1.5 * IQR\n",
        "filtered_df = df[df['Price'] <= outlierStep]\n",
        "\n",
        "f, axes = plt.subplots(2, 1, figsize=(7, 5), sharex=True)\n",
        "\n",
        "sns.histplot(data=df, x='Price', ax=axes[0], kde=True, bins=np.arange(0,80,5))\n",
        "axes[0].set_title('Original Data')\n",
        "sns.histplot(data=filtered_df, x='Price', color='Red', ax=axes[1], kde=True, bins=np.arange(0,80,5))\n",
        "axes[1].set_title('Filtered Data (Without Outliers)')\n",
        "\n",
        "f.tight_layout()\n",
        "plt.show()"
      ],
      "execution_count": 6,
      "outputs": [
        {
          "output_type": "display_data",
          "data": {
            "text/plain": [
              "<Figure size 700x500 with 2 Axes>"
            ],
            "image/png": "[encoded data removed]"
          },
          "metadata": {}
        }
      ]
    },
    {
      "cell_type": "markdown",
      "metadata": {
        "id": "zo0NPo0dySM_"
      },
      "source": [
        "# Hanlding Missing Value\n",
        "---\n",
        "Last time, we dropped the NaN value, impute this time.\n",
        "\n",
        "print the `head()` of numeric_df"
      ]
    },
    {
      "cell_type": "code",
      "metadata": {
        "colab": {
          "base_uri": "https://localhost:8080/"
        },
        "id": "jB_AtFZHUjhN",
        "outputId": "5207e46d-e8d0-4093-826f-d688e46df544"
      },
      "source": [
        "df = pd.read_csv('https://raw.githubusercontent.com/selva86/datasets/master/Cars93_miss.csv')\n",
        "\n",
        "numericDf = df.select_dtypes(include=[np.number])\n",
        "\n",
        "numericDf.fillna(numericDf.mean(), inplace=True)\n",
        "\n",
        "print(numericDf.head())\n"
      ],
      "execution_count": 7,
      "outputs": [
        {
          "output_type": "stream",
          "name": "stdout",
          "text": [
            "   Min.Price  Price  Max.Price  MPG.city  MPG.highway  EngineSize  Horsepower  \\\n",
            "0  12.900000   15.9  18.800000      25.0         31.0    1.800000       140.0   \n",
            "1  29.200000   33.9  38.700000      18.0         25.0    3.200000       200.0   \n",
            "2  25.900000   29.1  32.300000      20.0         26.0    2.800000       172.0   \n",
            "3  17.118605   37.7  44.600000      19.0         26.0    2.658242       172.0   \n",
            "4  17.118605   30.0  21.459091      22.0         30.0    3.500000       208.0   \n",
            "\n",
            "      RPM  Rev.per.mile  Fuel.tank.capacity  Passengers  Length  Wheelbase  \\\n",
            "0  6300.0        2890.0                13.2         5.0   177.0      102.0   \n",
            "1  5500.0        2335.0                18.0         5.0   195.0      115.0   \n",
            "2  5500.0        2280.0                16.9         5.0   180.0      102.0   \n",
            "3  5500.0        2535.0                21.1         6.0   193.0      106.0   \n",
            "4  5700.0        2545.0                21.1         4.0   186.0      109.0   \n",
            "\n",
            "       Width  Turn.circle  Rear.seat.room  Luggage.room  Weight  \n",
            "0  68.000000         37.0            26.5     13.986486  2705.0  \n",
            "1  71.000000         38.0            30.0     15.000000  3560.0  \n",
            "2  67.000000         37.0            28.0     14.000000  3375.0  \n",
            "3  69.448276         37.0            31.0     17.000000  3405.0  \n",
            "4  69.000000         39.0            27.0     13.000000  3640.0  \n"
          ]
        }
      ]
    },
    {
      "cell_type": "markdown",
      "source": [
        "There are many NaN values exist.\n",
        "\n",
        "Use `info()` to check the details."
      ],
      "metadata": {
        "id": "zRlEP2nhJ86z"
      }
    },
    {
      "cell_type": "code",
      "metadata": {
        "colab": {
          "base_uri": "https://localhost:8080/"
        },
        "id": "plHPPDGNIHYm",
        "outputId": "44534a05-5c11-411f-e54f-7ea4f00a07cc"
      },
      "source": [
        "df = pd.read_csv('https://raw.githubusercontent.com/selva86/datasets/master/Cars93_miss.csv')\n",
        "\n",
        "numericDf = df.select_dtypes(include=[np.number])\n",
        "\n",
        "numericDf.info()\n"
      ],
      "execution_count": 8,
      "outputs": [
        {
          "output_type": "stream",
          "name": "stdout",
          "text": [
            "<class 'pandas.core.frame.DataFrame'>\n",
            "RangeIndex: 93 entries, 0 to 92\n",
            "Data columns (total 18 columns):\n",
            " #   Column              Non-Null Count  Dtype  \n",
            "---  ------              --------------  -----  \n",
            " 0   Min.Price           86 non-null     float64\n",
            " 1   Price               91 non-null     float64\n",
            " 2   Max.Price           88 non-null     float64\n",
            " 3   MPG.city            84 non-null     float64\n",
            " 4   MPG.highway         91 non-null     float64\n",
            " 5   EngineSize          91 non-null     float64\n",
            " 6   Horsepower          86 non-null     float64\n",
            " 7   RPM                 90 non-null     float64\n",
            " 8   Rev.per.mile        87 non-null     float64\n",
            " 9   Fuel.tank.capacity  85 non-null     float64\n",
            " 10  Passengers          91 non-null     float64\n",
            " 11  Length              89 non-null     float64\n",
            " 12  Wheelbase           92 non-null     float64\n",
            " 13  Width               87 non-null     float64\n",
            " 14  Turn.circle         88 non-null     float64\n",
            " 15  Rear.seat.room      89 non-null     float64\n",
            " 16  Luggage.room        74 non-null     float64\n",
            " 17  Weight              86 non-null     float64\n",
            "dtypes: float64(18)\n",
            "memory usage: 13.2 KB\n"
          ]
        }
      ]
    },
    {
      "cell_type": "markdown",
      "metadata": {
        "id": "P3-cBELIytAp"
      },
      "source": [
        "**[TODO]** Impute the data with missing value with `SimpleImputer` with `median`.\n",
        "---\n",
        "[SimpleImputer](https://scikit-learn.org/stable/modules/generated/sklearn.impute.SimpleImputer.html)"
      ]
    },
    {
      "cell_type": "code",
      "metadata": {
        "colab": {
          "base_uri": "https://localhost:8080/"
        },
        "id": "AOi3qiCtyYFf",
        "outputId": "3376b498-6804-4fa2-b0d6-7538636fdbaa"
      },
      "source": [
        "from sklearn.impute import SimpleImputer\n",
        "\n",
        "df = pd.read_csv('https://raw.githubusercontent.com/selva86/datasets/master/Cars93_miss.csv')\n",
        "\n",
        "numericDf = df.select_dtypes(include=[np.number])\n",
        "\n",
        "imp_median = SimpleImputer(strategy='median')\n",
        "\n",
        "imputed_data = imp_median.fit_transform(numericDf)\n",
        "\n",
        "imputedNumericDf = pd.DataFrame(imputed_data, columns=numericDf.columns)\n",
        "\n",
        "print(imputedNumericDf.head())\n"
      ],
      "execution_count": 9,
      "outputs": [
        {
          "output_type": "stream",
          "name": "stdout",
          "text": [
            "   Min.Price  Price  Max.Price  MPG.city  MPG.highway  EngineSize  Horsepower  \\\n",
            "0       12.9   15.9      18.80      25.0         31.0         1.8       140.0   \n",
            "1       29.2   33.9      38.70      18.0         25.0         3.2       200.0   \n",
            "2       25.9   29.1      32.30      20.0         26.0         2.8       172.0   \n",
            "3       14.6   37.7      44.60      19.0         26.0         2.3       172.0   \n",
            "4       14.6   30.0      19.15      22.0         30.0         3.5       208.0   \n",
            "\n",
            "      RPM  Rev.per.mile  Fuel.tank.capacity  Passengers  Length  Wheelbase  \\\n",
            "0  6300.0        2890.0                13.2         5.0   177.0      102.0   \n",
            "1  5500.0        2335.0                18.0         5.0   195.0      115.0   \n",
            "2  5500.0        2280.0                16.9         5.0   180.0      102.0   \n",
            "3  5500.0        2535.0                21.1         6.0   193.0      106.0   \n",
            "4  5700.0        2545.0                21.1         4.0   186.0      109.0   \n",
            "\n",
            "   Width  Turn.circle  Rear.seat.room  Luggage.room  Weight  \n",
            "0   68.0         37.0            26.5          14.0  2705.0  \n",
            "1   71.0         38.0            30.0          15.0  3560.0  \n",
            "2   67.0         37.0            28.0          14.0  3375.0  \n",
            "3   69.0         37.0            31.0          17.0  3405.0  \n",
            "4   69.0         39.0            27.0          13.0  3640.0  \n"
          ]
        }
      ]
    },
    {
      "cell_type": "markdown",
      "source": [
        "Check through `info()` that NaN values don't exist any more."
      ],
      "metadata": {
        "id": "Rby-j2o8MOA5"
      }
    },
    {
      "cell_type": "code",
      "metadata": {
        "colab": {
          "base_uri": "https://localhost:8080/"
        },
        "id": "ai_js3ZhUajC",
        "outputId": "56e44aab-e183-4d93-e1a0-978c256a9c5f"
      },
      "source": [
        "imputedNumericDf.info()"
      ],
      "execution_count": 10,
      "outputs": [
        {
          "output_type": "stream",
          "name": "stdout",
          "text": [
            "<class 'pandas.core.frame.DataFrame'>\n",
            "RangeIndex: 93 entries, 0 to 92\n",
            "Data columns (total 18 columns):\n",
            " #   Column              Non-Null Count  Dtype  \n",
            "---  ------              --------------  -----  \n",
            " 0   Min.Price           93 non-null     float64\n",
            " 1   Price               93 non-null     float64\n",
            " 2   Max.Price           93 non-null     float64\n",
            " 3   MPG.city            93 non-null     float64\n",
            " 4   MPG.highway         93 non-null     float64\n",
            " 5   EngineSize          93 non-null     float64\n",
            " 6   Horsepower          93 non-null     float64\n",
            " 7   RPM                 93 non-null     float64\n",
            " 8   Rev.per.mile        93 non-null     float64\n",
            " 9   Fuel.tank.capacity  93 non-null     float64\n",
            " 10  Passengers          93 non-null     float64\n",
            " 11  Length              93 non-null     float64\n",
            " 12  Wheelbase           93 non-null     float64\n",
            " 13  Width               93 non-null     float64\n",
            " 14  Turn.circle         93 non-null     float64\n",
            " 15  Rear.seat.room      93 non-null     float64\n",
            " 16  Luggage.room        93 non-null     float64\n",
            " 17  Weight              93 non-null     float64\n",
            "dtypes: float64(18)\n",
            "memory usage: 13.2 KB\n"
          ]
        }
      ]
    },
    {
      "cell_type": "markdown",
      "source": [
        "**[TODO]** Impute the data with missing value with `Knn imputation\n",
        "` with `n_neighbors = 2` and give weight by `distance`\n"
      ],
      "metadata": {
        "id": "zVwW91WTtvTu"
      }
    },
    {
      "cell_type": "code",
      "source": [
        "from sklearn.impute import KNNImputer\n",
        "\n",
        "df = pd.read_csv('https://raw.githubusercontent.com/selva86/datasets/master/Cars93_miss.csv')\n",
        "\n",
        "numericDf = df.select_dtypes(include=[np.number])\n",
        "\n",
        "imp_KNN = KNNImputer(n_neighbors=2, weights='distance')\n",
        "\n",
        "imputed_data_KNN = imp_KNN.fit_transform(numericDf)\n",
        "\n",
        "imputeDF_KNN = pd.DataFrame(imputed_data_KNN, columns=numericDf.columns)\n",
        "\n",
        "print(imputeDF_KNN.head())\n"
      ],
      "metadata": {
        "colab": {
          "base_uri": "https://localhost:8080/"
        },
        "id": "jPfavzXnty1k",
        "outputId": "14e34fcc-1728-42c5-f541-8116ea45bb26"
      },
      "execution_count": 11,
      "outputs": [
        {
          "output_type": "stream",
          "name": "stdout",
          "text": [
            "   Min.Price  Price  Max.Price  MPG.city  MPG.highway  EngineSize  Horsepower  \\\n",
            "0  12.900000   15.9   18.80000      25.0         31.0    1.800000       140.0   \n",
            "1  29.200000   33.9   38.70000      18.0         25.0    3.200000       200.0   \n",
            "2  25.900000   29.1   32.30000      20.0         26.0    2.800000       172.0   \n",
            "3  28.332082   37.7   44.60000      19.0         26.0    3.097892       172.0   \n",
            "4  17.737339   30.0   21.95971      22.0         30.0    3.500000       208.0   \n",
            "\n",
            "      RPM  Rev.per.mile  Fuel.tank.capacity  Passengers  Length  Wheelbase  \\\n",
            "0  6300.0        2890.0                13.2         5.0   177.0      102.0   \n",
            "1  5500.0        2335.0                18.0         5.0   195.0      115.0   \n",
            "2  5500.0        2280.0                16.9         5.0   180.0      102.0   \n",
            "3  5500.0        2535.0                21.1         6.0   193.0      106.0   \n",
            "4  5700.0        2545.0                21.1         4.0   186.0      109.0   \n",
            "\n",
            "      Width  Turn.circle  Rear.seat.room  Luggage.room  Weight  \n",
            "0  68.00000         37.0            26.5     13.053113  2705.0  \n",
            "1  71.00000         38.0            30.0     15.000000  3560.0  \n",
            "2  67.00000         37.0            28.0     14.000000  3375.0  \n",
            "3  70.48946         37.0            31.0     17.000000  3405.0  \n",
            "4  69.00000         39.0            27.0     13.000000  3640.0  \n"
          ]
        }
      ]
    },
    {
      "cell_type": "markdown",
      "metadata": {
        "id": "HsGn80HkVJsh"
      },
      "source": [
        "# Balancing Data\n",
        "\n",
        "Draw a catplot plotting the x-axis using `DrivenTrain` and set the type of plot to be drawn to `count`.\n",
        "[catplot](https://seaborn.pydata.org/generated/seaborn.catplot.html)"
      ]
    },
    {
      "cell_type": "code",
      "metadata": {
        "colab": {
          "base_uri": "https://localhost:8080/",
          "height": 507
        },
        "id": "lnhm-HQs2ASf",
        "outputId": "10191472-aaa8-46f4-951f-20048235b216"
      },
      "source": [
        "import seaborn as sns\n",
        "import matplotlib.pyplot as plt\n",
        "\n",
        "df = pd.read_csv('https://raw.githubusercontent.com/selva86/datasets/master/Cars93_miss.csv')\n",
        "\n",
        "sns.catplot(data=df, x='DriveTrain', kind='count')\n",
        "\n",
        "plt.tight_layout()\n",
        "plt.show()\n"
      ],
      "execution_count": 12,
      "outputs": [
        {
          "output_type": "display_data",
          "data": {
            "text/plain": [
              "<Figure size 500x500 with 1 Axes>"
            ],
            "image/png": "[encoded data removed]"
          },
          "metadata": {}
        }
      ]
    },
    {
      "cell_type": "markdown",
      "metadata": {
        "id": "YRO_mXxwgpgq"
      },
      "source": [
        "**[TODO]** Undersample the `Front` and `Rear` cars as much as `4WD` cars."
      ]
    },
    {
      "cell_type": "code",
      "metadata": {
        "colab": {
          "base_uri": "https://localhost:8080/",
          "height": 507
        },
        "id": "XtDX5IZBCtMU",
        "outputId": "678f6b06-d89c-4d13-e39a-4e77e440f299"
      },
      "source": [
        "import seaborn as sns\n",
        "import matplotlib.pyplot as plt\n",
        "\n",
        "df = pd.read_csv('https://raw.githubusercontent.com/selva86/datasets/master/Cars93_miss.csv')\n",
        "\n",
        "num_Front = df[df['DriveTrain'] == 'Front'].shape[0]\n",
        "num_Rear = df[df['DriveTrain'] == 'Rear'].shape[0]\n",
        "num_4WD = df[df['DriveTrain'] == '4WD'].shape[0]\n",
        "\n",
        "sampled_Front = df[df['DriveTrain'] == 'Front'].sample(num_4WD)\n",
        "sampled_Rear = df[df['DriveTrain'] == 'Rear'].sample(num_4WD)\n",
        "all_4WD = df[df['DriveTrain'] == '4WD']\n",
        "\n",
        "undersampledDf = pd.concat([sampled_Front, sampled_Rear, all_4WD])\n",
        "\n",
        "sns.catplot(data=undersampledDf, kind=\"count\", x='DriveTrain')\n",
        "plt.tight_layout()\n",
        "plt.show()\n"
      ],
      "execution_count": 13,
      "outputs": [
        {
          "output_type": "display_data",
          "data": {
            "text/plain": [
              "<Figure size 500x500 with 1 Axes>"
            ],
            "image/png": "[encoded data removed]"
          },
          "metadata": {}
        }
      ]
    },
    {
      "cell_type": "markdown",
      "source": [
        "## Oversampling\n",
        "\n",
        "Add column `DriveTrain` from `df` to `imputedNumericDf` which was used for knn imputer above. And drop the sample with missing value on `DriveTrain` using `.dropna()` method of `pd`."
      ],
      "metadata": {
        "id": "IhSu_8yh4YzE"
      }
    },
    {
      "cell_type": "code",
      "source": [
        "df = pd.read_csv('https://raw.githubusercontent.com/selva86/datasets/master/Cars93_miss.csv')\n",
        "\n",
        "numericDf = df.select_dtypes(include=[np.number])\n",
        "\n",
        "from sklearn.impute import KNNImputer\n",
        "imp_KNN = KNNImputer(n_neighbors=2, weights='distance')\n",
        "imputed_data_KNN = imp_KNN.fit_transform(numericDf)\n",
        "imputedNumericDf = pd.DataFrame(imputed_data_KNN, columns=numericDf.columns)\n",
        "\n",
        "imputedNumericDf['DriveTrain'] = df['DriveTrain']\n",
        "\n",
        "imputedNumericDf = imputedNumericDf.dropna(subset=['DriveTrain'])\n"
      ],
      "metadata": {
        "id": "1ktLJyxw4dKj"
      },
      "execution_count": 14,
      "outputs": []
    },
    {
      "cell_type": "markdown",
      "source": [
        "**[TODO]** By using SMOTE, resample all classes but the majority class, `Front`. Pleaser check the parameter, `sampling_strategy`, in [[ref](https://imbalanced-learn.org/stable/references/generated/imblearn.over_sampling.SMOTE.html)]."
      ],
      "metadata": {
        "id": "OtiQHrNn4fTC"
      }
    },
    {
      "cell_type": "code",
      "source": [
        "from imblearn.over_sampling import SMOTE\n",
        "\n",
        "\n",
        "X = imputedNumericDf.drop('DriveTrain', axis=1)\n",
        "y = imputedNumericDf['DriveTrain']\n",
        "\n",
        "smote = SMOTE(sampling_strategy='auto', random_state=42)\n",
        "\n",
        "X_resampled, y_resampled = smote.fit_resample(X, y)\n",
        "\n",
        "df_resampled = pd.DataFrame(X_resampled, columns=imputedNumericDf.columns.drop('DriveTrain'))\n",
        "df_resampled['DriveTrain'] = y_resampled\n",
        "\n",
        "df_resampled\n"
      ],
      "metadata": {
        "colab": {
          "base_uri": "https://localhost:8080/",
          "height": 444
        },
        "id": "W6-YC-bw4fhJ",
        "outputId": "3fd38142-7fbd-47fa-c631-248e92c6f7ed"
      },
      "execution_count": 15,
      "outputs": [
        {
          "output_type": "execute_result",
          "data": {
            "text/plain": [
              "     Min.Price      Price  Max.Price   MPG.city  MPG.highway  EngineSize  \\\n",
              "0    12.900000  15.900000  18.800000  25.000000    31.000000    1.800000   \n",
              "1    29.200000  33.900000  38.700000  18.000000    25.000000    3.200000   \n",
              "2    25.900000  29.100000  32.300000  20.000000    26.000000    2.800000   \n",
              "3    17.737339  30.000000  21.959710  22.000000    30.000000    3.500000   \n",
              "4    19.900000  20.800000  22.126434  19.000000    28.000000    3.800000   \n",
              "..         ...        ...        ...        ...          ...         ...   \n",
              "178  42.085138  58.423928  74.774305  19.623899    25.463476    3.095718   \n",
              "179  19.182793  20.106000  21.029207  18.136897    26.273793    4.435724   \n",
              "180  29.954918  31.428897  32.940546  17.246596    25.623298    5.014372   \n",
              "181  33.897291  41.826941  49.823501  22.602792    27.676408    2.597808   \n",
              "182  19.393838  32.027511  25.648655  21.809325    29.682208    3.480932   \n",
              "\n",
              "     Horsepower          RPM  Rev.per.mile  Fuel.tank.capacity  Passengers  \\\n",
              "0    140.000000  6300.000000   2890.000000           13.200000    5.000000   \n",
              "1    200.000000  5500.000000   2335.000000           18.000000    5.000000   \n",
              "2    172.000000  5500.000000   2280.000000           16.900000    5.000000   \n",
              "3    208.000000  5700.000000   2545.000000           21.100000    4.000000   \n",
              "4    170.000000  4800.000000   1576.175471           18.041170    6.000000   \n",
              "..          ...          ...           ...                 ...         ...   \n",
              "178  206.919392  5453.652376   2243.753157           18.036524    5.000000   \n",
              "179  185.893103  4254.758630   1776.680077           19.391931    5.726207   \n",
              "180  198.698944  4373.978876   1644.115026           21.130106    6.348629   \n",
              "181  158.788128  5232.359210   2357.165905           15.823592    5.000000   \n",
              "182  208.572025  5687.288330   2524.343536           20.934748    4.063558   \n",
              "\n",
              "         Length   Wheelbase      Width  Turn.circle  Rear.seat.room  \\\n",
              "0    177.000000  102.000000  68.000000    37.000000       26.500000   \n",
              "1    195.000000  115.000000  71.000000    38.000000       30.000000   \n",
              "2    180.000000  102.000000  67.000000    37.000000       28.000000   \n",
              "3    186.000000  109.000000  69.000000    39.000000       27.000000   \n",
              "4    200.000000  111.000000  74.000000    42.000000       30.500000   \n",
              "..          ...         ...        ...          ...             ...   \n",
              "178  189.589692  109.420655  68.768262    36.652393       28.431907   \n",
              "179  209.398965  112.220345  77.452414    43.000000       29.315517   \n",
              "180  217.869894  116.623298  77.376702    45.000000       31.123298   \n",
              "181  180.460391  106.654490  67.661796    34.992694       26.910174   \n",
              "182  186.349681  109.063558  69.000000    38.872883       27.111266   \n",
              "\n",
              "     Luggage.room       Weight DriveTrain  \n",
              "0       13.053113  2705.000000      Front  \n",
              "1       15.000000  3560.000000      Front  \n",
              "2       14.000000  3375.000000      Front  \n",
              "3       13.000000  3640.000000       Rear  \n",
              "4       17.000000  3470.000000      Front  \n",
              "..            ...          ...        ...  \n",
              "178     14.652393  3454.899219       Rear  \n",
              "179     19.904827  3852.803432       Rear  \n",
              "180     21.623298  4073.835094       Rear  \n",
              "181     12.992694  3120.193305       Rear  \n",
              "182     13.127117  3632.690790       Rear  \n",
              "\n",
              "[183 rows x 19 columns]"
            ],
            "text/html": [
              "\n",
              "  <div id=\"df-1089629b-2b26-4316-b42d-fec850f34413\" class=\"colab-df-container\">\n",
              "    <div>\n",
              "<style scoped>\n",
              "    .dataframe tbody tr th:only-of-type {\n",
              "        vertical-align: middle;\n",
              "    }\n",
              "\n",
              "    .dataframe tbody tr th {\n",
              "        vertical-align: top;\n",
              "    }\n",
              "\n",
              "    .dataframe thead th {\n",
              "        text-align: right;\n",
              "    }\n",
              "</style>\n",
              "<table border=\"1\" class=\"dataframe\">\n",
              "  <thead>\n",
              "    <tr style=\"text-align: right;\">\n",
              "      <th></th>\n",
              "      <th>Min.Price</th>\n",
              "      <th>Price</th>\n",
              "      <th>Max.Price</th>\n",
              "      <th>MPG.city</th>\n",
              "      <th>MPG.highway</th>\n",
              "      <th>EngineSize</th>\n",
              "      <th>Horsepower</th>\n",
              "      <th>RPM</th>\n",
              "      <th>Rev.per.mile</th>\n",
              "      <th>Fuel.tank.capacity</th>\n",
              "      <th>Passengers</th>\n",
              "      <th>Length</th>\n",
              "      <th>Wheelbase</th>\n",
              "      <th>Width</th>\n",
              "      <th>Turn.circle</th>\n",
              "      <th>Rear.seat.room</th>\n",
              "      <th>Luggage.room</th>\n",
              "      <th>Weight</th>\n",
              "      <th>DriveTrain</th>\n",
              "    </tr>\n",
              "  </thead>\n",
              "  <tbody>\n",
              "    <tr>\n",
              "      <th>0</th>\n",
              "      <td>12.900000</td>\n",
              "      <td>15.900000</td>\n",
              "      <td>18.800000</td>\n",
              "      <td>25.000000</td>\n",
              "      <td>31.000000</td>\n",
              "      <td>1.800000</td>\n",
              "      <td>140.000000</td>\n",
              "      <td>6300.000000</td>\n",
              "      <td>2890.000000</td>\n",
              "      <td>13.200000</td>\n",
              "      <td>5.000000</td>\n",
              "      <td>177.000000</td>\n",
              "      <td>102.000000</td>\n",
              "      <td>68.000000</td>\n",
              "      <td>37.000000</td>\n",
              "      <td>26.500000</td>\n",
              "      <td>13.053113</td>\n",
              "      <td>2705.000000</td>\n",
              "      <td>Front</td>\n",
              "    </tr>\n",
              "    <tr>\n",
              "      <th>1</th>\n",
              "      <td>29.200000</td>\n",
              "      <td>33.900000</td>\n",
              "      <td>38.700000</td>\n",
              "      <td>18.000000</td>\n",
              "      <td>25.000000</td>\n",
              "      <td>3.200000</td>\n",
              "      <td>200.000000</td>\n",
              "      <td>5500.000000</td>\n",
              "      <td>2335.000000</td>\n",
              "      <td>18.000000</td>\n",
              "      <td>5.000000</td>\n",
              "      <td>195.000000</td>\n",
              "      <td>115.000000</td>\n",
              "      <td>71.000000</td>\n",
              "      <td>38.000000</td>\n",
              "      <td>30.000000</td>\n",
              "      <td>15.000000</td>\n",
              "      <td>3560.000000</td>\n",
              "      <td>Front</td>\n",
              "    </tr>\n",
              "    <tr>\n",
              "      <th>2</th>\n",
              "      <td>25.900000</td>\n",
              "      <td>29.100000</td>\n",
              "      <td>32.300000</td>\n",
              "      <td>20.000000</td>\n",
              "      <td>26.000000</td>\n",
              "      <td>2.800000</td>\n",
              "      <td>172.000000</td>\n",
              "      <td>5500.000000</td>\n",
              "      <td>2280.000000</td>\n",
              "      <td>16.900000</td>\n",
              "      <td>5.000000</td>\n",
              "      <td>180.000000</td>\n",
              "      <td>102.000000</td>\n",
              "      <td>67.000000</td>\n",
              "      <td>37.000000</td>\n",
              "      <td>28.000000</td>\n",
              "      <td>14.000000</td>\n",
              "      <td>3375.000000</td>\n",
              "      <td>Front</td>\n",
              "    </tr>\n",
              "    <tr>\n",
              "      <th>3</th>\n",
              "      <td>17.737339</td>\n",
              "      <td>30.000000</td>\n",
              "      <td>21.959710</td>\n",
              "      <td>22.000000</td>\n",
              "      <td>30.000000</td>\n",
              "      <td>3.500000</td>\n",
              "      <td>208.000000</td>\n",
              "      <td>5700.000000</td>\n",
              "      <td>2545.000000</td>\n",
              "      <td>21.100000</td>\n",
              "      <td>4.000000</td>\n",
              "      <td>186.000000</td>\n",
              "      <td>109.000000</td>\n",
              "      <td>69.000000</td>\n",
              "      <td>39.000000</td>\n",
              "      <td>27.000000</td>\n",
              "      <td>13.000000</td>\n",
              "      <td>3640.000000</td>\n",
              "      <td>Rear</td>\n",
              "    </tr>\n",
              "    <tr>\n",
              "      <th>4</th>\n",
              "      <td>19.900000</td>\n",
              "      <td>20.800000</td>\n",
              "      <td>22.126434</td>\n",
              "      <td>19.000000</td>\n",
              "      <td>28.000000</td>\n",
              "      <td>3.800000</td>\n",
              "      <td>170.000000</td>\n",
              "      <td>4800.000000</td>\n",
              "      <td>1576.175471</td>\n",
              "      <td>18.041170</td>\n",
              "      <td>6.000000</td>\n",
              "      <td>200.000000</td>\n",
              "      <td>111.000000</td>\n",
              "      <td>74.000000</td>\n",
              "      <td>42.000000</td>\n",
              "      <td>30.500000</td>\n",
              "      <td>17.000000</td>\n",
              "      <td>3470.000000</td>\n",
              "      <td>Front</td>\n",
              "    </tr>\n",
              "    <tr>\n",
              "      <th>...</th>\n",
              "      <td>...</td>\n",
              "      <td>...</td>\n",
              "      <td>...</td>\n",
              "      <td>...</td>\n",
              "      <td>...</td>\n",
              "      <td>...</td>\n",
              "      <td>...</td>\n",
              "      <td>...</td>\n",
              "      <td>...</td>\n",
              "      <td>...</td>\n",
              "      <td>...</td>\n",
              "      <td>...</td>\n",
              "      <td>...</td>\n",
              "      <td>...</td>\n",
              "      <td>...</td>\n",
              "      <td>...</td>\n",
              "      <td>...</td>\n",
              "      <td>...</td>\n",
              "      <td>...</td>\n",
              "    </tr>\n",
              "    <tr>\n",
              "      <th>178</th>\n",
              "      <td>42.085138</td>\n",
              "      <td>58.423928</td>\n",
              "      <td>74.774305</td>\n",
              "      <td>19.623899</td>\n",
              "      <td>25.463476</td>\n",
              "      <td>3.095718</td>\n",
              "      <td>206.919392</td>\n",
              "      <td>5453.652376</td>\n",
              "      <td>2243.753157</td>\n",
              "      <td>18.036524</td>\n",
              "      <td>5.000000</td>\n",
              "      <td>189.589692</td>\n",
              "      <td>109.420655</td>\n",
              "      <td>68.768262</td>\n",
              "      <td>36.652393</td>\n",
              "      <td>28.431907</td>\n",
              "      <td>14.652393</td>\n",
              "      <td>3454.899219</td>\n",
              "      <td>Rear</td>\n",
              "    </tr>\n",
              "    <tr>\n",
              "      <th>179</th>\n",
              "      <td>19.182793</td>\n",
              "      <td>20.106000</td>\n",
              "      <td>21.029207</td>\n",
              "      <td>18.136897</td>\n",
              "      <td>26.273793</td>\n",
              "      <td>4.435724</td>\n",
              "      <td>185.893103</td>\n",
              "      <td>4254.758630</td>\n",
              "      <td>1776.680077</td>\n",
              "      <td>19.391931</td>\n",
              "      <td>5.726207</td>\n",
              "      <td>209.398965</td>\n",
              "      <td>112.220345</td>\n",
              "      <td>77.452414</td>\n",
              "      <td>43.000000</td>\n",
              "      <td>29.315517</td>\n",
              "      <td>19.904827</td>\n",
              "      <td>3852.803432</td>\n",
              "      <td>Rear</td>\n",
              "    </tr>\n",
              "    <tr>\n",
              "      <th>180</th>\n",
              "      <td>29.954918</td>\n",
              "      <td>31.428897</td>\n",
              "      <td>32.940546</td>\n",
              "      <td>17.246596</td>\n",
              "      <td>25.623298</td>\n",
              "      <td>5.014372</td>\n",
              "      <td>198.698944</td>\n",
              "      <td>4373.978876</td>\n",
              "      <td>1644.115026</td>\n",
              "      <td>21.130106</td>\n",
              "      <td>6.348629</td>\n",
              "      <td>217.869894</td>\n",
              "      <td>116.623298</td>\n",
              "      <td>77.376702</td>\n",
              "      <td>45.000000</td>\n",
              "      <td>31.123298</td>\n",
              "      <td>21.623298</td>\n",
              "      <td>4073.835094</td>\n",
              "      <td>Rear</td>\n",
              "    </tr>\n",
              "    <tr>\n",
              "      <th>181</th>\n",
              "      <td>33.897291</td>\n",
              "      <td>41.826941</td>\n",
              "      <td>49.823501</td>\n",
              "      <td>22.602792</td>\n",
              "      <td>27.676408</td>\n",
              "      <td>2.597808</td>\n",
              "      <td>158.788128</td>\n",
              "      <td>5232.359210</td>\n",
              "      <td>2357.165905</td>\n",
              "      <td>15.823592</td>\n",
              "      <td>5.000000</td>\n",
              "      <td>180.460391</td>\n",
              "      <td>106.654490</td>\n",
              "      <td>67.661796</td>\n",
              "      <td>34.992694</td>\n",
              "      <td>26.910174</td>\n",
              "      <td>12.992694</td>\n",
              "      <td>3120.193305</td>\n",
              "      <td>Rear</td>\n",
              "    </tr>\n",
              "    <tr>\n",
              "      <th>182</th>\n",
              "      <td>19.393838</td>\n",
              "      <td>32.027511</td>\n",
              "      <td>25.648655</td>\n",
              "      <td>21.809325</td>\n",
              "      <td>29.682208</td>\n",
              "      <td>3.480932</td>\n",
              "      <td>208.572025</td>\n",
              "      <td>5687.288330</td>\n",
              "      <td>2524.343536</td>\n",
              "      <td>20.934748</td>\n",
              "      <td>4.063558</td>\n",
              "      <td>186.349681</td>\n",
              "      <td>109.063558</td>\n",
              "      <td>69.000000</td>\n",
              "      <td>38.872883</td>\n",
              "      <td>27.111266</td>\n",
              "      <td>13.127117</td>\n",
              "      <td>3632.690790</td>\n",
              "      <td>Rear</td>\n",
              "    </tr>\n",
              "  </tbody>\n",
              "</table>\n",
              "<p>183 rows × 19 columns</p>\n",
              "</div>\n",
              "    <div class=\"colab-df-buttons\">\n",
              "\n",
              "  <div class=\"colab-df-container\">\n",
              "    <button class=\"colab-df-convert\" onclick=\"convertToInteractive('df-1089629b-2b26-4316-b42d-fec850f34413')\"\n",
              "            title=\"Convert this dataframe to an interactive table.\"\n",
              "            style=\"display:none;\">\n",
              "\n",
              "  <svg xmlns=\"http://www.w3.org/2000/svg\" height=\"24px\" viewBox=\"0 -960 960 960\">\n",
              "    <path d=\"M120-120v-720h720v720H120Zm60-500h600v-160H180v160Zm220 220h160v-160H400v160Zm0 220h160v-160H400v160ZM180-400h160v-160H180v160Zm440 0h160v-160H620v160ZM180-180h160v-160H180v160Zm440 0h160v-160H620v160Z\"/>\n",
              "  </svg>\n",
              "    </button>\n",
              "\n",
              "  <style>\n",
              "    .colab-df-container {\n",
              "      display:flex;\n",
              "      gap: 12px;\n",
              "    }\n",
              "\n",
              "    .colab-df-convert {\n",
              "      background-color: #E8F0FE;\n",
              "      border: none;\n",
              "      border-radius: 50%;\n",
              "      cursor: pointer;\n",
              "      display: none;\n",
              "      fill: #1967D2;\n",
              "      height: 32px;\n",
              "      padding: 0 0 0 0;\n",
              "      width: 32px;\n",
              "    }\n",
              "\n",
              "    .colab-df-convert:hover {\n",
              "      background-color: #E2EBFA;\n",
              "      box-shadow: 0px 1px 2px rgba(60, 64, 67, 0.3), 0px 1px 3px 1px rgba(60, 64, 67, 0.15);\n",
              "      fill: #174EA6;\n",
              "    }\n",
              "\n",
              "    .colab-df-buttons div {\n",
              "      margin-bottom: 4px;\n",
              "    }\n",
              "\n",
              "    [theme=dark] .colab-df-convert {\n",
              "      background-color: #3B4455;\n",
              "      fill: #D2E3FC;\n",
              "    }\n",
              "\n",
              "    [theme=dark] .colab-df-convert:hover {\n",
              "      background-color: #434B5C;\n",
              "      box-shadow: 0px 1px 3px 1px rgba(0, 0, 0, 0.15);\n",
              "      filter: drop-shadow(0px 1px 2px rgba(0, 0, 0, 0.3));\n",
              "      fill: #FFFFFF;\n",
              "    }\n",
              "  </style>\n",
              "\n",
              "    <script>\n",
              "      const buttonEl =\n",
              "        document.querySelector('#df-1089629b-2b26-4316-b42d-fec850f34413 button.colab-df-convert');\n",
              "      buttonEl.style.display =\n",
              "        google.colab.kernel.accessAllowed ? 'block' : 'none';\n",
              "\n",
              "      async function convertToInteractive(key) {\n",
              "        const element = document.querySelector('#df-1089629b-2b26-4316-b42d-fec850f34413');\n",
              "        const dataTable =\n",
              "          await google.colab.kernel.invokeFunction('convertToInteractive',\n",
              "                                                    [key], {});\n",
              "        if (!dataTable) return;\n",
              "\n",
              "        const docLinkHtml = 'Like what you see? Visit the ' +\n",
              "          '<a target=\"_blank\" href=https://colab.research.google.com/notebooks/data_table.ipynb>data table notebook</a>'\n",
              "          + ' to learn more about interactive tables.';\n",
              "        element.innerHTML = '';\n",
              "        dataTable['output_type'] = 'display_data';\n",
              "        await google.colab.output.renderOutput(dataTable, element);\n",
              "        const docLink = document.createElement('div');\n",
              "        docLink.innerHTML = docLinkHtml;\n",
              "        element.appendChild(docLink);\n",
              "      }\n",
              "    </script>\n",
              "  </div>\n",
              "\n",
              "\n",
              "<div id=\"df-ef9625d2-802c-41f6-8e25-48c7c951a612\">\n",
              "  <button class=\"colab-df-quickchart\" onclick=\"quickchart('df-ef9625d2-802c-41f6-8e25-48c7c951a612')\"\n",
              "            title=\"Suggest charts.\"\n",
              "            style=\"display:none;\">\n",
              "\n",
              "<svg xmlns=\"http://www.w3.org/2000/svg\" height=\"24px\"viewBox=\"0 0 24 24\"\n",
              "     width=\"24px\">\n",
              "    <g>\n",
              "        <path d=\"M19 3H5c-1.1 0-2 .9-2 2v14c0 1.1.9 2 2 2h14c1.1 0 2-.9 2-2V5c0-1.1-.9-2-2-2zM9 17H7v-7h2v7zm4 0h-2V7h2v10zm4 0h-2v-4h2v4z\"/>\n",
              "    </g>\n",
              "</svg>\n",
              "  </button>\n",
              "\n",
              "<style>\n",
              "  .colab-df-quickchart {\n",
              "      --bg-color: #E8F0FE;\n",
              "      --fill-color: #1967D2;\n",
              "      --hover-bg-color: #E2EBFA;\n",
              "      --hover-fill-color: #174EA6;\n",
              "      --disabled-fill-color: #AAA;\n",
              "      --disabled-bg-color: #DDD;\n",
              "  }\n",
              "\n",
              "  [theme=dark] .colab-df-quickchart {\n",
              "      --bg-color: #3B4455;\n",
              "      --fill-color: #D2E3FC;\n",
              "      --hover-bg-color: #434B5C;\n",
              "      --hover-fill-color: #FFFFFF;\n",
              "      --disabled-bg-color: #3B4455;\n",
              "      --disabled-fill-color: #666;\n",
              "  }\n",
              "\n",
              "  .colab-df-quickchart {\n",
              "    background-color: var(--bg-color);\n",
              "    border: none;\n",
              "    border-radius: 50%;\n",
              "    cursor: pointer;\n",
              "    display: none;\n",
              "    fill: var(--fill-color);\n",
              "    height: 32px;\n",
              "    padding: 0;\n",
              "    width: 32px;\n",
              "  }\n",
              "\n",
              "  .colab-df-quickchart:hover {\n",
              "    background-color: var(--hover-bg-color);\n",
              "    box-shadow: 0 1px 2px rgba(60, 64, 67, 0.3), 0 1px 3px 1px rgba(60, 64, 67, 0.15);\n",
              "    fill: var(--button-hover-fill-color);\n",
              "  }\n",
              "\n",
              "  .colab-df-quickchart-complete:disabled,\n",
              "  .colab-df-quickchart-complete:disabled:hover {\n",
              "    background-color: var(--disabled-bg-color);\n",
              "    fill: var(--disabled-fill-color);\n",
              "    box-shadow: none;\n",
              "  }\n",
              "\n",
              "  .colab-df-spinner {\n",
              "    border: 2px solid var(--fill-color);\n",
              "    border-color: transparent;\n",
              "    border-bottom-color: var(--fill-color);\n",
              "    animation:\n",
              "      spin 1s steps(1) infinite;\n",
              "  }\n",
              "\n",
              "  @keyframes spin {\n",
              "    0% {\n",
              "      border-color: transparent;\n",
              "      border-bottom-color: var(--fill-color);\n",
              "      border-left-color: var(--fill-color);\n",
              "    }\n",
              "    20% {\n",
              "      border-color: transparent;\n",
              "      border-left-color: var(--fill-color);\n",
              "      border-top-color: var(--fill-color);\n",
              "    }\n",
              "    30% {\n",
              "      border-color: transparent;\n",
              "      border-left-color: var(--fill-color);\n",
              "      border-top-color: var(--fill-color);\n",
              "      border-right-color: var(--fill-color);\n",
              "    }\n",
              "    40% {\n",
              "      border-color: transparent;\n",
              "      border-right-color: var(--fill-color);\n",
              "      border-top-color: var(--fill-color);\n",
              "    }\n",
              "    60% {\n",
              "      border-color: transparent;\n",
              "      border-right-color: var(--fill-color);\n",
              "    }\n",
              "    80% {\n",
              "      border-color: transparent;\n",
              "      border-right-color: var(--fill-color);\n",
              "      border-bottom-color: var(--fill-color);\n",
              "    }\n",
              "    90% {\n",
              "      border-color: transparent;\n",
              "      border-bottom-color: var(--fill-color);\n",
              "    }\n",
              "  }\n",
              "</style>\n",
              "\n",
              "  <script>\n",
              "    async function quickchart(key) {\n",
              "      const quickchartButtonEl =\n",
              "        document.querySelector('#' + key + ' button');\n",
              "      quickchartButtonEl.disabled = true;  // To prevent multiple clicks.\n",
              "      quickchartButtonEl.classList.add('colab-df-spinner');\n",
              "      try {\n",
              "        const charts = await google.colab.kernel.invokeFunction(\n",
              "            'suggestCharts', [key], {});\n",
              "      } catch (error) {\n",
              "        console.error('Error during call to suggestCharts:', error);\n",
              "      }\n",
              "      quickchartButtonEl.classList.remove('colab-df-spinner');\n",
              "      quickchartButtonEl.classList.add('colab-df-quickchart-complete');\n",
              "    }\n",
              "    (() => {\n",
              "      let quickchartButtonEl =\n",
              "        document.querySelector('#df-ef9625d2-802c-41f6-8e25-48c7c951a612 button');\n",
              "      quickchartButtonEl.style.display =\n",
              "        google.colab.kernel.accessAllowed ? 'block' : 'none';\n",
              "    })();\n",
              "  </script>\n",
              "</div>\n",
              "    </div>\n",
              "  </div>\n"
            ]
          },
          "metadata": {},
          "execution_count": 15
        }
      ]
    },
    {
      "cell_type": "markdown",
      "source": [
        "\n",
        "Show the smote results as a plot."
      ],
      "metadata": {
        "id": "cwZkpoxe4lws"
      }
    },
    {
      "cell_type": "code",
      "source": [
        "import seaborn as sns\n",
        "import matplotlib.pyplot as plt\n",
        "\n",
        "sns.catplot(data=df_resampled, kind=\"count\", x='DriveTrain')\n",
        "\n",
        "plt.tight_layout()\n",
        "\n",
        "plt.show()\n"
      ],
      "metadata": {
        "colab": {
          "base_uri": "https://localhost:8080/",
          "height": 507
        },
        "id": "U0IoqERB4khj",
        "outputId": "340bc339-a494-4610-fec9-270bd8c69cda"
      },
      "execution_count": 16,
      "outputs": [
        {
          "output_type": "display_data",
          "data": {
            "text/plain": [
              "<Figure size 500x500 with 1 Axes>"
            ],
            "image/png": "[encoded data removed]"
          },
          "metadata": {}
        }
      ]
    }
  ]
}